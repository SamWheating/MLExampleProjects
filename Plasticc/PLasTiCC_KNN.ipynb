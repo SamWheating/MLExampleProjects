{
 "cells": [
  {
   "cell_type": "markdown",
   "metadata": {},
   "source": [
    "## PLaStiCC\n",
    "\n",
    "This is a pretty simple attempt at solving this problem. Metadata and simple statistics are used in a KNN to predict classes. The test data set is huge (19GB uncompressed) so parallel processing is used to accellerate prediction time. \n",
    "\n",
    "This doesn't perform very well on Kaggle, so theres a lot of room for improvement."
   ]
  },
  {
   "cell_type": "code",
   "execution_count": 2,
   "metadata": {},
   "outputs": [],
   "source": [
    "import pandas as pd\n",
    "from sklearn.model_selection import train_test_split\n",
    "import time\n",
    "import multiprocessing as mp\n",
    "\n",
    "from matplotlib import pyplot as plt"
   ]
  },
  {
   "cell_type": "markdown",
   "metadata": {},
   "source": [
    "## Data loading and formatting:"
   ]
  },
  {
   "cell_type": "code",
   "execution_count": 3,
   "metadata": {},
   "outputs": [],
   "source": [
    "def load_data(timeseries, metadata, validation=True):\n",
    "    \"\"\"Load data from files, process and combine into a single dataframe.\n",
    "        Perform T-V split and return data ready for modelling.\n",
    "        \n",
    "        Params:\n",
    "        timeseries: filename of a csv containing the PLaStiCC timeseries data\n",
    "        metadata: filename of a csv containing the PLaStiCC metadata\n",
    "        validation: break the dataset into train-test or just a full size training set.\"\"\"\n",
    "    \n",
    "    start = time.time()\n",
    "    \n",
    "    # Load Data:    \n",
    "    timeseries_df = pd.read_csv(timeseries)\n",
    "    metadata_df = pd.read_csv(metadata)\n",
    "    \n",
    "    # Re-index data:\n",
    "    metadata_df = metadata_df.set_index('object_id')\n",
    "    metadata_df.index.type = 'int'\n",
    "    \n",
    "    # Construct feature dataframe:    \n",
    "    print(\"Constructing Dataframe...\")\n",
    "    relevant_metadata = [feature for feature in list(metadata_df) if feature not in [\"object_id\"]]\n",
    "    features = list(timeseries_df)\n",
    "    features.remove('object_id')\n",
    "    headers = []\n",
    "    for feature in features:\n",
    "        headers.extend([feature + '_mean', feature + '_stddev'])\n",
    "    headers.extend(relevant_metadata)\n",
    "    index = timeseries_df.object_id.unique()\n",
    "    feature_df = pd.DataFrame(index=index, columns=headers)\n",
    "    feature_df.rename_axis(\"object_id\")\n",
    "    feature_df.index.type = \"int\"\n",
    "    \n",
    "    # Populate feature dataframe with statistics by object\n",
    "    print(\"Caclulating Statistics...\")\n",
    "    for object_id in timeseries_df.object_id.unique():\n",
    "        subset = timeseries_df.query('object_id == {}'.format(str(object_id)))\n",
    "        for feature in features:\n",
    "            feature_df.loc[object_id][feature + '_mean'] = subset[feature].mean()\n",
    "            feature_df.loc[object_id][feature + '_stddev'] = subset[feature].std()\n",
    "        \n",
    "    # Populate feature dataframe with metadata by object\n",
    "    print(\"Joining Metadata...\")\n",
    "    for object_id in timeseries_df.object_id.unique():\n",
    "        for feature in relevant_metadata:\n",
    "            feature_df.loc[object_id][feature] = metadata_df.loc[object_id][feature]\n",
    "            \n",
    "    feature_df = feature_df.fillna(0.0)\n",
    "    \n",
    "    feature_df.target.type = 'string'\n",
    "    X = feature_df.loc[:, feature_df.columns != 'target']\n",
    "    y = feature_df.target\n",
    "    y=y.astype('category')\n",
    "    \n",
    "    print(\"Finished loading data in %s Seconds\" % str(time.time() - start))\n",
    "    \n",
    "    if validation:\n",
    "        X_train, X_test, y_train, y_test = train_test_split(X, y, test_size=0.20)\n",
    "        return X_train, X_test, y_train, y_test\n",
    "    \n",
    "    else:\n",
    "        return X, y"
   ]
  },
  {
   "cell_type": "markdown",
   "metadata": {},
   "source": [
    "## Load and Format Training Data"
   ]
  },
  {
   "cell_type": "code",
   "execution_count": 4,
   "metadata": {},
   "outputs": [
    {
     "name": "stdout",
     "output_type": "stream",
     "text": [
      "Constructing Dataframe...\n",
      "Caclulating Statistics...\n",
      "Joining Metadata...\n",
      "Finished loading data in 145.0763852596283 Seconds\n"
     ]
    }
   ],
   "source": [
    "X_train, X_test, y_train, y_test = load_data(\"training_set.csv.zip\", \"training_set_metadata.csv\", validation=True)"
   ]
  },
  {
   "cell_type": "markdown",
   "metadata": {},
   "source": [
    "## Construct and Train Model "
   ]
  },
  {
   "cell_type": "code",
   "execution_count": 5,
   "metadata": {},
   "outputs": [
    {
     "data": {
      "text/plain": [
       "KNeighborsClassifier(algorithm='auto', leaf_size=30, metric='minkowski',\n",
       "           metric_params=None, n_jobs=1, n_neighbors=1, p=2,\n",
       "           weights='uniform')"
      ]
     },
     "execution_count": 5,
     "metadata": {},
     "output_type": "execute_result"
    }
   ],
   "source": [
    "from sklearn.neighbors import KNeighborsClassifier\n",
    "\n",
    "clf = KNeighborsClassifier(n_neighbors=1)\n",
    "clf.fit(X_train, y_train)"
   ]
  },
  {
   "cell_type": "markdown",
   "metadata": {},
   "source": [
    "### Get Prediction Accuracy on Validation Data:"
   ]
  },
  {
   "cell_type": "code",
   "execution_count": 6,
   "metadata": {},
   "outputs": [
    {
     "name": "stdout",
     "output_type": "stream",
     "text": [
      "Validation accuracy = 42.866242 percent\n"
     ]
    }
   ],
   "source": [
    "predictions = clf.predict(X_test)\n",
    "\n",
    "Accuracy = 100*(len([predictions[i] for i in range(len(predictions)) if predictions[i] == y_test[i]])/len(predictions))\n",
    "print(\"Validation accuracy = %f percent\" % Accuracy)"
   ]
  },
  {
   "cell_type": "markdown",
   "metadata": {},
   "source": [
    "## Bonus: See if we can enhance the model accuracy with a grid search.\n",
    "(This is more applicable to more complex models, but whatever.)"
   ]
  },
  {
   "cell_type": "code",
   "execution_count": 7,
   "metadata": {},
   "outputs": [
    {
     "name": "stdout",
     "output_type": "stream",
     "text": [
      "The optimal value of K is 21, which gives a validation accuracy of 49.171975 Percent.\n"
     ]
    },
    {
     "data": {
      "text/plain": [
       "Text(0,0.5,'Validation Accuracy (%)')"
      ]
     },
     "execution_count": 7,
     "metadata": {},
     "output_type": "execute_result"
    },
    {
     "data": {
      "image/png": "[encoded data removed]",
      "text/plain": [
       "<Figure size 432x288 with 1 Axes>"
      ]
     },
     "metadata": {},
     "output_type": "display_data"
    }
   ],
   "source": [
    "best_k = 1\n",
    "best_accuracy = 0.0\n",
    "\n",
    "accuracy_plot = []\n",
    "test_points = range(1, 50, 1)\n",
    "\n",
    "for k in test_points:\n",
    "    clf = KNeighborsClassifier(n_neighbors=k)\n",
    "    clf.fit(X_train, y_train)\n",
    "    predictions = clf.predict(X_test)\n",
    "    Accuracy = 100*(len([predictions[i] for i in range(len(predictions)) if predictions[i] == y_test[i]])/len(predictions))\n",
    "    accuracy_plot.append(Accuracy)\n",
    "    if Accuracy > best_accuracy:\n",
    "        best_k = k\n",
    "        best_accuracy = Accuracy\n",
    "        \n",
    "print(\"The optimal value of K is %i, which gives a validation accuracy of %f Percent.\" % (best_k, best_accuracy))   \n",
    "\n",
    "plt.plot(test_points, accuracy_plot)\n",
    "plt.xlabel(\"K\")\n",
    "plt.ylabel(\"Validation Accuracy (%)\")"
   ]
  },
  {
   "cell_type": "markdown",
   "metadata": {},
   "source": [
    "## So, the model works..\n",
    "\n",
    "Next we want to generate the full set of training data and re-train the model. Then, we'll make predictions on the test set. \n",
    "\n",
    "Note: The test set is _huge_ (6.8GB compressed .csv), so we'll need to process it incrementally. "
   ]
  },
  {
   "cell_type": "code",
   "execution_count": 8,
   "metadata": {
    "scrolled": true
   },
   "outputs": [
    {
     "name": "stdout",
     "output_type": "stream",
     "text": [
      "Constructing Dataframe...\n",
      "Caclulating Statistics...\n",
      "Joining Metadata...\n",
      "Finished loading data in 138.21950483322144 Seconds\n"
     ]
    }
   ],
   "source": [
    "train_x, train_y = load_data(\"training_set.csv.zip\", \"training_set_metadata.csv\", validation=False)"
   ]
  },
  {
   "cell_type": "code",
   "execution_count": 9,
   "metadata": {},
   "outputs": [
    {
     "data": {
      "text/plain": [
       "KNeighborsClassifier(algorithm='auto', leaf_size=30, metric='minkowski',\n",
       "           metric_params=None, n_jobs=1, n_neighbors=21, p=2,\n",
       "           weights='uniform')"
      ]
     },
     "execution_count": 9,
     "metadata": {},
     "output_type": "execute_result"
    }
   ],
   "source": [
    "clf = KNeighborsClassifier(n_neighbors=best_k)\n",
    "clf.fit(train_x, train_y)"
   ]
  },
  {
   "cell_type": "markdown",
   "metadata": {},
   "source": [
    "### Make predictions on the test data:\n",
    "The test dataset is huge, so we're going to iterate through one-by-one and make a prediction on each object. This is probably gonna take a long time!"
   ]
  },
  {
   "cell_type": "code",
   "execution_count": 10,
   "metadata": {},
   "outputs": [],
   "source": [
    "test_metadata_df = pd.read_csv(\"test_set_metadata.csv.zip\")\n",
    "test_metadata_df = test_metadata_df.set_index('object_id')\n",
    "test_metadata_df.index.type = 'int'"
   ]
  },
  {
   "cell_type": "code",
   "execution_count": 11,
   "metadata": {},
   "outputs": [
    {
     "ename": "NameError",
     "evalue": "name 'test_objectids' is not defined",
     "output_type": "error",
     "traceback": [
      "\u001b[0;31m---------------------------------------------------------------------------\u001b[0m",
      "\u001b[0;31mNameError\u001b[0m                                 Traceback (most recent call last)",
      "\u001b[0;32m<ipython-input-11-390369e4b21a>\u001b[0m in \u001b[0;36m<module>\u001b[0;34m()\u001b[0m\n\u001b[0;32m----> 1\u001b[0;31m \u001b[0mlen\u001b[0m\u001b[0;34m(\u001b[0m\u001b[0mtest_objectids\u001b[0m\u001b[0;34m)\u001b[0m\u001b[0;34m\u001b[0m\u001b[0m\n\u001b[0m",
      "\u001b[0;31mNameError\u001b[0m: name 'test_objectids' is not defined"
     ]
    }
   ],
   "source": [
    "len(test_objectids)"
   ]
  },
  {
   "cell_type": "markdown",
   "metadata": {},
   "source": [
    "## Iterating through the 19GB csv file:\n",
    "\n",
    "Here we define a function for processing a block of data, and then we iterate through the entire 19GB file and process each chunk. Multiprocessing is used to parallelize this process across all available cores (8 in this case)."
   ]
  },
  {
   "cell_type": "code",
   "execution_count": 12,
   "metadata": {},
   "outputs": [],
   "source": [
    "def process_chunk(chunk_df, metadata_df):\n",
    "    relevant_object_ids = chunk_df.object_id.unique()\n",
    "    \n",
    "    # Construct feature dataframe:    \n",
    "    relevant_metadata = [feature for feature in list(metadata_df) if feature not in [\"object_id\"]]\n",
    "    features = list(chunk_df)\n",
    "    features.remove('object_id')\n",
    "    headers = []\n",
    "    for feature in features:\n",
    "        headers.extend([feature + '_mean', feature + '_stddev'])\n",
    "    headers.extend(relevant_metadata)\n",
    "    index = chunk_df.object_id.unique()\n",
    "    feature_df = pd.DataFrame(index=index, columns=headers)\n",
    "    feature_df.rename_axis(\"object_id\")\n",
    "    feature_df.index.type = \"int\"\n",
    "    \n",
    "    # Populate feature dataframe with statistics by object\n",
    "    for object_id in relevant_object_ids:\n",
    "        subset = chunk_df.query('object_id == {}'.format(str(object_id)))\n",
    "        for feature in features:\n",
    "            feature_df.loc[object_id][feature + '_mean'] = subset[feature].mean()\n",
    "            feature_df.loc[object_id][feature + '_stddev'] = subset[feature].std()\n",
    "        \n",
    "    # Populate feature dataframe with metadata by object\n",
    "    for object_id in relevant_object_ids:\n",
    "        for feature in relevant_metadata:\n",
    "            feature_df.loc[object_id][feature] = metadata_df.loc[object_id][feature]\n",
    "            \n",
    "    feature_df = feature_df.fillna(0.0)\n",
    "    X = feature_df.loc[:, feature_df.columns != 'target']\n",
    "        \n",
    "    return X"
   ]
  },
  {
   "cell_type": "code",
   "execution_count": 13,
   "metadata": {},
   "outputs": [
    {
     "name": "stdout",
     "output_type": "stream",
     "text": [
      "Starting Multiprocessing!\n"
     ]
    },
    {
     "name": "stderr",
     "output_type": "stream",
     "text": [
      "Process ForkPoolWorker-7:\n",
      "Process ForkPoolWorker-5:\n",
      "Process ForkPoolWorker-1:\n",
      "Process ForkPoolWorker-4:\n",
      "Process ForkPoolWorker-3:\n",
      "Process ForkPoolWorker-2:\n",
      "Process ForkPoolWorker-6:\n",
      "Traceback (most recent call last):\n",
      "  File \"/home/paperspace/anaconda3/envs/fastai/lib/python3.6/multiprocessing/process.py\", line 258, in _bootstrap\n",
      "    self.run()\n",
      "Traceback (most recent call last):\n",
      "  File \"/home/paperspace/anaconda3/envs/fastai/lib/python3.6/multiprocessing/process.py\", line 93, in run\n",
      "    self._target(*self._args, **self._kwargs)\n",
      "Process ForkPoolWorker-8:\n",
      "  File \"/home/paperspace/anaconda3/envs/fastai/lib/python3.6/multiprocessing/process.py\", line 258, in _bootstrap\n",
      "    self.run()\n",
      "Traceback (most recent call last):\n",
      "  File \"/home/paperspace/anaconda3/envs/fastai/lib/python3.6/multiprocessing/pool.py\", line 119, in worker\n",
      "    result = (True, func(*args, **kwds))\n",
      "  File \"/home/paperspace/anaconda3/envs/fastai/lib/python3.6/multiprocessing/process.py\", line 258, in _bootstrap\n",
      "    self.run()\n",
      "Traceback (most recent call last):\n",
      "Traceback (most recent call last):\n",
      "  File \"<ipython-input-13-e85108c08156>\", line 9, in test_helper\n",
      "    X = process_chunk(chunk, metadata_df)\n",
      "  File \"/home/paperspace/anaconda3/envs/fastai/lib/python3.6/multiprocessing/process.py\", line 93, in run\n",
      "    self._target(*self._args, **self._kwargs)\n",
      "  File \"/home/paperspace/anaconda3/envs/fastai/lib/python3.6/multiprocessing/process.py\", line 93, in run\n",
      "    self._target(*self._args, **self._kwargs)\n",
      "Traceback (most recent call last):\n",
      "  File \"/home/paperspace/anaconda3/envs/fastai/lib/python3.6/multiprocessing/process.py\", line 258, in _bootstrap\n",
      "    self.run()\n",
      "  File \"<ipython-input-12-56c615fc3500>\", line 27, in process_chunk\n",
      "    feature_df.loc[object_id][feature] = metadata_df.loc[object_id][feature]\n",
      "  File \"/home/paperspace/anaconda3/envs/fastai/lib/python3.6/multiprocessing/process.py\", line 258, in _bootstrap\n",
      "    self.run()\n",
      "  File \"/home/paperspace/anaconda3/envs/fastai/lib/python3.6/multiprocessing/pool.py\", line 119, in worker\n",
      "    result = (True, func(*args, **kwds))\n",
      "  File \"/home/paperspace/anaconda3/envs/fastai/lib/python3.6/multiprocessing/process.py\", line 258, in _bootstrap\n",
      "    self.run()\n",
      "  File \"/home/paperspace/anaconda3/envs/fastai/lib/python3.6/multiprocessing/pool.py\", line 119, in worker\n",
      "    result = (True, func(*args, **kwds))\n",
      "  File \"/home/paperspace/anaconda3/envs/fastai/lib/python3.6/multiprocessing/process.py\", line 93, in run\n",
      "    self._target(*self._args, **self._kwargs)\n",
      "Traceback (most recent call last):\n",
      "  File \"<ipython-input-13-e85108c08156>\", line 9, in test_helper\n",
      "    X = process_chunk(chunk, metadata_df)\n",
      "Traceback (most recent call last):\n",
      "  File \"/home/paperspace/anaconda3/envs/fastai/lib/python3.6/multiprocessing/pool.py\", line 119, in worker\n",
      "    result = (True, func(*args, **kwds))\n"
     ]
    },
    {
     "ename": "KeyboardInterrupt",
     "evalue": "",
     "output_type": "error",
     "traceback": [
      "\u001b[0;31m---------------------------------------------------------------------------\u001b[0m",
      "\u001b[0;31mIndexError\u001b[0m                                Traceback (most recent call last)",
      "\u001b[0;32m~/anaconda3/envs/fastai/lib/python3.6/multiprocessing/pool.py\u001b[0m in \u001b[0;36mnext\u001b[0;34m(self, timeout)\u001b[0m\n\u001b[1;32m    719\u001b[0m             \u001b[0;32mtry\u001b[0m\u001b[0;34m:\u001b[0m\u001b[0;34m\u001b[0m\u001b[0m\n\u001b[0;32m--> 720\u001b[0;31m                 \u001b[0mitem\u001b[0m \u001b[0;34m=\u001b[0m \u001b[0mself\u001b[0m\u001b[0;34m.\u001b[0m\u001b[0m_items\u001b[0m\u001b[0;34m.\u001b[0m\u001b[0mpopleft\u001b[0m\u001b[0;34m(\u001b[0m\u001b[0;34m)\u001b[0m\u001b[0;34m\u001b[0m\u001b[0m\n\u001b[0m\u001b[1;32m    721\u001b[0m             \u001b[0;32mexcept\u001b[0m \u001b[0mIndexError\u001b[0m\u001b[0;34m:\u001b[0m\u001b[0;34m\u001b[0m\u001b[0m\n",
      "\u001b[0;31mIndexError\u001b[0m: pop from an empty deque",
      "\nDuring handling of the above exception, another exception occurred:\n",
      "\u001b[0;31mKeyboardInterrupt\u001b[0m                         Traceback (most recent call last)",
      "\u001b[0;32m<ipython-input-13-e85108c08156>\u001b[0m in \u001b[0;36m<module>\u001b[0;34m()\u001b[0m\n\u001b[1;32m     16\u001b[0m \u001b[0;34m\u001b[0m\u001b[0m\n\u001b[1;32m     17\u001b[0m \u001b[0;31m# Execute the wait and print function in parallel\u001b[0m\u001b[0;34m\u001b[0m\u001b[0;34m\u001b[0m\u001b[0m\n\u001b[0;32m---> 18\u001b[0;31m \u001b[0moutput\u001b[0m \u001b[0;34m=\u001b[0m \u001b[0mlist\u001b[0m\u001b[0;34m(\u001b[0m\u001b[0mpool\u001b[0m\u001b[0;34m.\u001b[0m\u001b[0mimap_unordered\u001b[0m\u001b[0;34m(\u001b[0m\u001b[0mtest_helper\u001b[0m\u001b[0;34m,\u001b[0m \u001b[0mchunks\u001b[0m\u001b[0;34m)\u001b[0m\u001b[0;34m)\u001b[0m\u001b[0;34m\u001b[0m\u001b[0m\n\u001b[0m\u001b[1;32m     19\u001b[0m \u001b[0;34m\u001b[0m\u001b[0m\n\u001b[1;32m     20\u001b[0m \u001b[0mpool\u001b[0m\u001b[0;34m.\u001b[0m\u001b[0mclose\u001b[0m\u001b[0;34m(\u001b[0m\u001b[0;34m)\u001b[0m\u001b[0;34m\u001b[0m\u001b[0m\n",
      "\u001b[0;32m~/anaconda3/envs/fastai/lib/python3.6/multiprocessing/pool.py\u001b[0m in \u001b[0;36mnext\u001b[0;34m(self, timeout)\u001b[0m\n\u001b[1;32m    722\u001b[0m                 \u001b[0;32mif\u001b[0m \u001b[0mself\u001b[0m\u001b[0;34m.\u001b[0m\u001b[0m_index\u001b[0m \u001b[0;34m==\u001b[0m \u001b[0mself\u001b[0m\u001b[0;34m.\u001b[0m\u001b[0m_length\u001b[0m\u001b[0;34m:\u001b[0m\u001b[0;34m\u001b[0m\u001b[0m\n\u001b[1;32m    723\u001b[0m                     \u001b[0;32mraise\u001b[0m \u001b[0mStopIteration\u001b[0m\u001b[0;34m\u001b[0m\u001b[0m\n\u001b[0;32m--> 724\u001b[0;31m                 \u001b[0mself\u001b[0m\u001b[0;34m.\u001b[0m\u001b[0m_cond\u001b[0m\u001b[0;34m.\u001b[0m\u001b[0mwait\u001b[0m\u001b[0;34m(\u001b[0m\u001b[0mtimeout\u001b[0m\u001b[0;34m)\u001b[0m\u001b[0;34m\u001b[0m\u001b[0m\n\u001b[0m\u001b[1;32m    725\u001b[0m                 \u001b[0;32mtry\u001b[0m\u001b[0;34m:\u001b[0m\u001b[0;34m\u001b[0m\u001b[0m\n\u001b[1;32m    726\u001b[0m                     \u001b[0mitem\u001b[0m \u001b[0;34m=\u001b[0m \u001b[0mself\u001b[0m\u001b[0;34m.\u001b[0m\u001b[0m_items\u001b[0m\u001b[0;34m.\u001b[0m\u001b[0mpopleft\u001b[0m\u001b[0;34m(\u001b[0m\u001b[0;34m)\u001b[0m\u001b[0;34m\u001b[0m\u001b[0m\n",
      "\u001b[0;32m~/anaconda3/envs/fastai/lib/python3.6/threading.py\u001b[0m in \u001b[0;36mwait\u001b[0;34m(self, timeout)\u001b[0m\n\u001b[1;32m    293\u001b[0m         \u001b[0;32mtry\u001b[0m\u001b[0;34m:\u001b[0m    \u001b[0;31m# restore state no matter what (e.g., KeyboardInterrupt)\u001b[0m\u001b[0;34m\u001b[0m\u001b[0m\n\u001b[1;32m    294\u001b[0m             \u001b[0;32mif\u001b[0m \u001b[0mtimeout\u001b[0m \u001b[0;32mis\u001b[0m \u001b[0;32mNone\u001b[0m\u001b[0;34m:\u001b[0m\u001b[0;34m\u001b[0m\u001b[0m\n\u001b[0;32m--> 295\u001b[0;31m                 \u001b[0mwaiter\u001b[0m\u001b[0;34m.\u001b[0m\u001b[0macquire\u001b[0m\u001b[0;34m(\u001b[0m\u001b[0;34m)\u001b[0m\u001b[0;34m\u001b[0m\u001b[0m\n\u001b[0m\u001b[1;32m    296\u001b[0m                 \u001b[0mgotit\u001b[0m \u001b[0;34m=\u001b[0m \u001b[0;32mTrue\u001b[0m\u001b[0;34m\u001b[0m\u001b[0m\n\u001b[1;32m    297\u001b[0m             \u001b[0;32melse\u001b[0m\u001b[0;34m:\u001b[0m\u001b[0;34m\u001b[0m\u001b[0m\n",
      "\u001b[0;31mKeyboardInterrupt\u001b[0m: "
     ]
    },
    {
     "name": "stderr",
     "output_type": "stream",
     "text": [
      "  File \"/home/paperspace/anaconda3/envs/fastai/lib/python3.6/site-packages/pandas/core/indexing.py\", line 1478, in __getitem__\n",
      "    return self._getitem_axis(maybe_callable, axis=axis)\n",
      "  File \"/home/paperspace/anaconda3/envs/fastai/lib/python3.6/multiprocessing/process.py\", line 258, in _bootstrap\n",
      "    self.run()\n",
      "  File \"<ipython-input-12-56c615fc3500>\", line 19, in process_chunk\n",
      "    subset = chunk_df.query('object_id == {}'.format(str(object_id)))\n",
      "  File \"/home/paperspace/anaconda3/envs/fastai/lib/python3.6/site-packages/pandas/core/indexing.py\", line 1858, in _getitem_axis\n",
      "    if is_iterator(key):\n",
      "  File \"<ipython-input-13-e85108c08156>\", line 9, in test_helper\n",
      "    X = process_chunk(chunk, metadata_df)\n",
      "  File \"/home/paperspace/anaconda3/envs/fastai/lib/python3.6/multiprocessing/process.py\", line 258, in _bootstrap\n",
      "    self.run()\n",
      "  File \"/home/paperspace/anaconda3/envs/fastai/lib/python3.6/multiprocessing/process.py\", line 93, in run\n",
      "    self._target(*self._args, **self._kwargs)\n",
      "  File \"/home/paperspace/anaconda3/envs/fastai/lib/python3.6/multiprocessing/process.py\", line 93, in run\n",
      "    self._target(*self._args, **self._kwargs)\n",
      "  File \"<ipython-input-13-e85108c08156>\", line 9, in test_helper\n",
      "    X = process_chunk(chunk, metadata_df)\n",
      "  File \"/home/paperspace/anaconda3/envs/fastai/lib/python3.6/multiprocessing/process.py\", line 93, in run\n",
      "    self._target(*self._args, **self._kwargs)\n",
      "  File \"<ipython-input-12-56c615fc3500>\", line 19, in process_chunk\n",
      "    subset = chunk_df.query('object_id == {}'.format(str(object_id)))\n",
      "  File \"/home/paperspace/anaconda3/envs/fastai/lib/python3.6/site-packages/pandas/core/dtypes/inference.py\", line 119, in is_iterator\n",
      "    def is_iterator(obj):\n",
      "  File \"/home/paperspace/anaconda3/envs/fastai/lib/python3.6/multiprocessing/process.py\", line 93, in run\n",
      "    self._target(*self._args, **self._kwargs)\n",
      "  File \"/home/paperspace/anaconda3/envs/fastai/lib/python3.6/multiprocessing/pool.py\", line 119, in worker\n",
      "    result = (True, func(*args, **kwds))\n",
      "  File \"/home/paperspace/anaconda3/envs/fastai/lib/python3.6/site-packages/pandas/core/frame.py\", line 2847, in query\n",
      "    res = self.eval(expr, **kwargs)\n",
      "  File \"<ipython-input-12-56c615fc3500>\", line 19, in process_chunk\n",
      "    subset = chunk_df.query('object_id == {}'.format(str(object_id)))\n",
      "  File \"/home/paperspace/anaconda3/envs/fastai/lib/python3.6/multiprocessing/pool.py\", line 119, in worker\n",
      "    result = (True, func(*args, **kwds))\n",
      "  File \"/home/paperspace/anaconda3/envs/fastai/lib/python3.6/site-packages/pandas/core/frame.py\", line 2847, in query\n",
      "    res = self.eval(expr, **kwargs)\n",
      "  File \"/home/paperspace/anaconda3/envs/fastai/lib/python3.6/multiprocessing/pool.py\", line 119, in worker\n",
      "    result = (True, func(*args, **kwds))\n",
      "KeyboardInterrupt\n",
      "  File \"/home/paperspace/anaconda3/envs/fastai/lib/python3.6/site-packages/pandas/core/frame.py\", line 2847, in query\n",
      "    res = self.eval(expr, **kwargs)\n",
      "  File \"/home/paperspace/anaconda3/envs/fastai/lib/python3.6/multiprocessing/pool.py\", line 119, in worker\n",
      "    result = (True, func(*args, **kwds))\n",
      "  File \"/home/paperspace/anaconda3/envs/fastai/lib/python3.6/site-packages/pandas/core/frame.py\", line 2957, in eval\n",
      "    index_resolvers = self._get_index_resolvers()\n",
      "  File \"/home/paperspace/anaconda3/envs/fastai/lib/python3.6/site-packages/pandas/core/frame.py\", line 2962, in eval\n",
      "    return _eval(expr, inplace=inplace, **kwargs)\n",
      "  File \"/home/paperspace/anaconda3/envs/fastai/lib/python3.6/site-packages/pandas/core/frame.py\", line 2957, in eval\n",
      "    index_resolvers = self._get_index_resolvers()\n",
      "  File \"<ipython-input-13-e85108c08156>\", line 9, in test_helper\n",
      "    X = process_chunk(chunk, metadata_df)\n",
      "  File \"<ipython-input-13-e85108c08156>\", line 9, in test_helper\n",
      "    X = process_chunk(chunk, metadata_df)\n",
      "  File \"/home/paperspace/anaconda3/envs/fastai/lib/python3.6/site-packages/pandas/core/computation/engines.py\", line 73, in evaluate\n",
      "    self.result_type, self.aligned_axes = _align(self.expr.terms)\n",
      "  File \"/home/paperspace/anaconda3/envs/fastai/lib/python3.6/site-packages/pandas/core/generic.py\", line 435, in _get_index_resolvers\n",
      "    d.update(self._get_axis_resolvers(axis_name))\n",
      "  File \"/home/paperspace/anaconda3/envs/fastai/lib/python3.6/site-packages/pandas/core/computation/eval.py\", line 296, in eval\n",
      "    ret = eng_inst.evaluate()\n",
      "  File \"<ipython-input-12-56c615fc3500>\", line 27, in process_chunk\n",
      "    feature_df.loc[object_id][feature] = metadata_df.loc[object_id][feature]\n",
      "  File \"<ipython-input-13-e85108c08156>\", line 9, in test_helper\n",
      "    X = process_chunk(chunk, metadata_df)\n",
      "  File \"/home/paperspace/anaconda3/envs/fastai/lib/python3.6/site-packages/pandas/core/generic.py\", line 435, in _get_index_resolvers\n",
      "    d.update(self._get_axis_resolvers(axis_name))\n",
      "  File \"/home/paperspace/anaconda3/envs/fastai/lib/python3.6/site-packages/pandas/core/generic.py\", line 427, in _get_axis_resolvers\n",
      "    dindex = axis_index.to_series()\n",
      "  File \"/home/paperspace/anaconda3/envs/fastai/lib/python3.6/site-packages/pandas/core/generic.py\", line 427, in _get_axis_resolvers\n",
      "    dindex = axis_index.to_series()\n",
      "  File \"/home/paperspace/anaconda3/envs/fastai/lib/python3.6/site-packages/pandas/core/indexes/base.py\", line 1204, in to_series\n",
      "    return Series(self._to_embed(), index=index, name=name)\n",
      "  File \"/home/paperspace/anaconda3/envs/fastai/lib/python3.6/site-packages/pandas/core/computation/align.py\", line 133, in _align\n",
      "    typ, axes = _align_core(terms)\n",
      "  File \"<ipython-input-12-56c615fc3500>\", line 19, in process_chunk\n",
      "    subset = chunk_df.query('object_id == {}'.format(str(object_id)))\n",
      "  File \"/home/paperspace/anaconda3/envs/fastai/lib/python3.6/site-packages/pandas/core/indexes/base.py\", line 1204, in to_series\n",
      "    return Series(self._to_embed(), index=index, name=name)\n",
      "  File \"/home/paperspace/anaconda3/envs/fastai/lib/python3.6/site-packages/pandas/core/indexes/base.py\", line 1263, in _to_embed\n",
      "    return self.values.copy()\n",
      "  File \"/home/paperspace/anaconda3/envs/fastai/lib/python3.6/site-packages/pandas/core/computation/align.py\", line 57, in wrapper\n",
      "    return f(terms)\n",
      "  File \"/home/paperspace/anaconda3/envs/fastai/lib/python3.6/site-packages/pandas/core/indexing.py\", line 1478, in __getitem__\n",
      "    return self._getitem_axis(maybe_callable, axis=axis)\n",
      "  File \"<ipython-input-12-56c615fc3500>\", line 19, in process_chunk\n",
      "    subset = chunk_df.query('object_id == {}'.format(str(object_id)))\n",
      "  File \"/home/paperspace/anaconda3/envs/fastai/lib/python3.6/site-packages/pandas/core/indexes/base.py\", line 1263, in _to_embed\n",
      "    return self.values.copy()\n",
      "  File \"/home/paperspace/anaconda3/envs/fastai/lib/python3.6/site-packages/pandas/core/frame.py\", line 2850, in query\n",
      "    new_data = self.loc[res]\n",
      "  File \"/home/paperspace/anaconda3/envs/fastai/lib/python3.6/site-packages/pandas/core/indexing.py\", line 1912, in _getitem_axis\n",
      "    return self._get_label(key, axis=axis)\n",
      "  File \"/home/paperspace/anaconda3/envs/fastai/lib/python3.6/site-packages/pandas/core/computation/align.py\", line 97, in _align_core\n",
      "    reindexer_size = len(reindexer)\n",
      "  File \"/home/paperspace/anaconda3/envs/fastai/lib/python3.6/site-packages/pandas/core/indexing.py\", line 1478, in __getitem__\n",
      "    return self._getitem_axis(maybe_callable, axis=axis)\n",
      "KeyboardInterrupt\n",
      "  File \"/home/paperspace/anaconda3/envs/fastai/lib/python3.6/site-packages/pandas/core/indexing.py\", line 140, in _get_label\n",
      "    return self.obj._xs(label, axis=axis)\n",
      "KeyboardInterrupt\n",
      "  File \"/home/paperspace/anaconda3/envs/fastai/lib/python3.6/site-packages/pandas/core/frame.py\", line 2850, in query\n",
      "    new_data = self.loc[res]\n",
      "  File \"/home/paperspace/anaconda3/envs/fastai/lib/python3.6/site-packages/pandas/core/indexing.py\", line 1868, in _getitem_axis\n",
      "    return self._getbool_axis(key, axis=axis)\n",
      "  File \"/home/paperspace/anaconda3/envs/fastai/lib/python3.6/site-packages/pandas/core/generic.py\", line 3000, in xs\n",
      "    new_values = self._data.fast_xs(loc)\n",
      "  File \"/home/paperspace/anaconda3/envs/fastai/lib/python3.6/site-packages/pandas/core/indexing.py\", line 1496, in _getbool_axis\n",
      "    return self.obj._take(inds, axis=axis)\n",
      "  File \"/home/paperspace/anaconda3/envs/fastai/lib/python3.6/site-packages/pandas/core/internals.py\", line 4074, in fast_xs\n",
      "    dtype = _interleaved_dtype(self.blocks)\n"
     ]
    },
    {
     "name": "stderr",
     "output_type": "stream",
     "text": [
      "  File \"/home/paperspace/anaconda3/envs/fastai/lib/python3.6/site-packages/pandas/core/indexing.py\", line 1478, in __getitem__\n",
      "    return self._getitem_axis(maybe_callable, axis=axis)\n",
      "  File \"/home/paperspace/anaconda3/envs/fastai/lib/python3.6/site-packages/pandas/core/indexes/range.py\", line 485, in __len__\n",
      "    return max(0, -(-(self._stop - self._start) // self._step))\n",
      "  File \"/home/paperspace/anaconda3/envs/fastai/lib/python3.6/site-packages/pandas/core/generic.py\", line 2789, in _take\n",
      "    verify=True)\n",
      "  File \"/home/paperspace/anaconda3/envs/fastai/lib/python3.6/site-packages/pandas/core/internals.py\", line 5048, in _interleaved_dtype\n",
      "    dtype = find_common_type([b.dtype for b in blocks])\n",
      "KeyboardInterrupt\n",
      "  File \"/home/paperspace/anaconda3/envs/fastai/lib/python3.6/site-packages/pandas/core/indexing.py\", line 1868, in _getitem_axis\n",
      "    return self._getbool_axis(key, axis=axis)\n",
      "  File \"/home/paperspace/anaconda3/envs/fastai/lib/python3.6/site-packages/pandas/core/indexing.py\", line 1496, in _getbool_axis\n",
      "    return self.obj._take(inds, axis=axis)\n",
      "  File \"/home/paperspace/anaconda3/envs/fastai/lib/python3.6/site-packages/pandas/core/generic.py\", line 2789, in _take\n",
      "    verify=True)\n",
      "  File \"<ipython-input-13-e85108c08156>\", line 9, in test_helper\n",
      "    X = process_chunk(chunk, metadata_df)\n",
      "  File \"/home/paperspace/anaconda3/envs/fastai/lib/python3.6/site-packages/pandas/core/internals.py\", line 4539, in take\n",
      "    axis=axis, allow_dups=True)\n",
      "  File \"<ipython-input-12-56c615fc3500>\", line 27, in process_chunk\n",
      "    feature_df.loc[object_id][feature] = metadata_df.loc[object_id][feature]\n",
      "  File \"/home/paperspace/anaconda3/envs/fastai/lib/python3.6/site-packages/pandas/core/indexing.py\", line 1478, in __getitem__\n",
      "    return self._getitem_axis(maybe_callable, axis=axis)\n",
      "  File \"/home/paperspace/anaconda3/envs/fastai/lib/python3.6/site-packages/pandas/core/internals.py\", line 4425, in reindex_indexer\n",
      "    for blk in self.blocks]\n",
      "  File \"/home/paperspace/anaconda3/envs/fastai/lib/python3.6/site-packages/pandas/core/indexing.py\", line 1912, in _getitem_axis\n",
      "    return self._get_label(key, axis=axis)\n",
      "  File \"/home/paperspace/anaconda3/envs/fastai/lib/python3.6/site-packages/pandas/core/internals.py\", line 4425, in <listcomp>\n",
      "    for blk in self.blocks]\n",
      "  File \"/home/paperspace/anaconda3/envs/fastai/lib/python3.6/site-packages/pandas/core/internals.py\", line 1258, in take_nd\n",
      "    allow_fill=True, fill_value=fill_value)\n",
      "  File \"/home/paperspace/anaconda3/envs/fastai/lib/python3.6/site-packages/pandas/core/indexing.py\", line 140, in _get_label\n",
      "    return self.obj._xs(label, axis=axis)\n",
      "  File \"/home/paperspace/anaconda3/envs/fastai/lib/python3.6/site-packages/pandas/core/algorithms.py\", line 1655, in take_nd\n",
      "    out = np.empty(out_shape, dtype=dtype)\n",
      "  File \"/home/paperspace/anaconda3/envs/fastai/lib/python3.6/site-packages/pandas/core/generic.py\", line 3012, in xs\n",
      "    name=self.index[loc], dtype=new_values.dtype)\n",
      "  File \"/home/paperspace/anaconda3/envs/fastai/lib/python3.6/site-packages/pandas/core/series.py\", line 277, in __init__\n",
      "    data = SingleBlockManager(data, index, fastpath=True)\n",
      "KeyboardInterrupt\n",
      "  File \"/home/paperspace/anaconda3/envs/fastai/lib/python3.6/site-packages/pandas/core/internals.py\", line 4677, in __init__\n",
      "    block = make_block(block, placement=slice(0, len(axis)), ndim=1)\n",
      "  File \"/home/paperspace/anaconda3/envs/fastai/lib/python3.6/site-packages/pandas/core/internals.py\", line 3199, in make_block\n",
      "    klass = get_block_type(values, dtype)\n",
      "  File \"/home/paperspace/anaconda3/envs/fastai/lib/python3.6/site-packages/pandas/core/internals.py\", line 3176, in get_block_type\n",
      "    elif is_datetimetz(values):\n",
      "  File \"/home/paperspace/anaconda3/envs/fastai/lib/python3.6/site-packages/pandas/core/dtypes/common.py\", line 268, in is_datetimetz\n",
      "    return ((isinstance(arr, ABCDatetimeIndex) and\n",
      "KeyboardInterrupt\n",
      "  File \"/home/paperspace/anaconda3/envs/fastai/lib/python3.6/site-packages/pandas/core/dtypes/cast.py\", line 1141, in find_common_type\n",
      "    return np.find_common_type(types, [])\n",
      "  File \"/home/paperspace/anaconda3/envs/fastai/lib/python3.6/site-packages/pandas/core/internals.py\", line 4539, in take\n",
      "    axis=axis, allow_dups=True)\n",
      "  File \"/home/paperspace/anaconda3/envs/fastai/lib/python3.6/site-packages/numpy/core/numerictypes.py\", line 1001, in find_common_type\n",
      "    array_types = [dtype(x) for x in array_types]\n",
      "KeyboardInterrupt\n",
      "  File \"/home/paperspace/anaconda3/envs/fastai/lib/python3.6/site-packages/pandas/core/internals.py\", line 4425, in reindex_indexer\n",
      "    for blk in self.blocks]\n",
      "  File \"/home/paperspace/anaconda3/envs/fastai/lib/python3.6/site-packages/pandas/core/internals.py\", line 4425, in <listcomp>\n",
      "    for blk in self.blocks]\n",
      "  File \"/home/paperspace/anaconda3/envs/fastai/lib/python3.6/site-packages/pandas/core/internals.py\", line 1258, in take_nd\n",
      "    allow_fill=True, fill_value=fill_value)\n",
      "  File \"/home/paperspace/anaconda3/envs/fastai/lib/python3.6/site-packages/pandas/core/algorithms.py\", line 1613, in take_nd\n",
      "    dtype, fill_value = maybe_promote(arr.dtype, fill_value)\n",
      "  File \"/home/paperspace/anaconda3/envs/fastai/lib/python3.6/site-packages/pandas/core/dtypes/cast.py\", line 336, in maybe_promote\n",
      "    elif is_datetimetz(dtype):\n",
      "  File \"/home/paperspace/anaconda3/envs/fastai/lib/python3.6/site-packages/pandas/core/dtypes/common.py\", line 270, in is_datetimetz\n",
      "    is_datetime64tz_dtype(arr))\n",
      "  File \"/home/paperspace/anaconda3/envs/fastai/lib/python3.6/site-packages/pandas/core/dtypes/common.py\", line 404, in is_datetime64tz_dtype\n",
      "    return DatetimeTZDtype.is_dtype(arr_or_dtype)\n",
      "  File \"/home/paperspace/anaconda3/envs/fastai/lib/python3.6/site-packages/pandas/core/dtypes/base.py\", line 84, in is_dtype\n",
      "    dtype = getattr(dtype, 'dtype', dtype)\n",
      "KeyboardInterrupt\n"
     ]
    }
   ],
   "source": [
    "# This taks a really long time.\n",
    "\n",
    "chunksize = 10 ** 6\n",
    "\n",
    "chunks = pd.read_csv('test_set.csv.zip', chunksize=chunksize)\n",
    "metadata_df = pd.read_csv('test_set_metadata.csv.zip')\n",
    "metadata_df = metadata_df.set_index('object_id')\n",
    "metadata_df.index.type = 'int'\n",
    "\n",
    "def test_helper(chunk):\n",
    "    X = process_chunk(chunk, metadata_df)\n",
    "    Predictions = clf.predict(X)\n",
    "    return [(X.index[i], Predictions[i]) for i in range(len(Predictions))]\n",
    "\n",
    "# Updat this number to the number of cores in your CPU\n",
    "pool = mp.Pool(8)\n",
    "\n",
    "print('Starting Multiprocessing!')\n",
    "\n",
    "# Execute the wait and print function in parallel\n",
    "output = list(pool.imap_unordered(test_helper, chunks))\n",
    "\n",
    "pool.close()\n",
    "pool.join()\n",
    "\n",
    "print('DONE')\n",
    "    "
   ]
  },
  {
   "cell_type": "markdown",
   "metadata": {},
   "source": [
    "Now there's just a bunch of postprocessing to clean up the predictions and write them into a .csv as requested by the Kaggle competition."
   ]
  },
  {
   "cell_type": "code",
   "execution_count": 73,
   "metadata": {},
   "outputs": [
    {
     "data": {
      "text/plain": [
       "[(13, 90.0),\n",
       " (14, 90.0),\n",
       " (17, 90.0),\n",
       " (23, 90.0),\n",
       " (34, 90.0),\n",
       " (35, 90.0),\n",
       " (43, 90.0),\n",
       " (50, 90.0),\n",
       " (60, 90.0),\n",
       " (69, 90.0)]"
      ]
     },
     "execution_count": 73,
     "metadata": {},
     "output_type": "execute_result"
    }
   ],
   "source": [
    "import itertools \n",
    "flattened_results = list(chain.from_iterable(output))\n",
    "flattened_results[:10]"
   ]
  },
  {
   "cell_type": "code",
   "execution_count": 96,
   "metadata": {},
   "outputs": [],
   "source": [
    "results_df = pd.DataFrame(flattened_results)\n",
    "results_df = results_df.rename(index=str, columns={0: \"object_id\", 1: \"class\"})\n",
    "results_df = results_df.set_index('object_id')\n",
    "results_df['class'] = results_df['class'].astype('int')"
   ]
  },
  {
   "cell_type": "code",
   "execution_count": 66,
   "metadata": {},
   "outputs": [
    {
     "data": {
      "text/plain": [
       "Int64Index([       13,        14,        17,        23,        34,        35,\n",
       "                   43,        50,        60,        69,\n",
       "            ...\n",
       "            104663387, 104663589, 104663592, 104663631, 104663656, 104663659,\n",
       "            104663682, 104663690, 104663735, 104663753],\n",
       "           dtype='int64', name='object_id', length=3492890)"
      ]
     },
     "execution_count": 66,
     "metadata": {},
     "output_type": "execute_result"
    }
   ],
   "source": [
    "results_df['class'].unique()\n",
    "results_df.index.unique()"
   ]
  },
  {
   "cell_type": "code",
   "execution_count": 105,
   "metadata": {},
   "outputs": [],
   "source": [
    "# Form the output file:\n",
    "headers = ['class_6','class_15','class_16','class_42','class_52','class_53',\n",
    "           'class_62','class_64','class_65','class_67','class_88','class_90','class_92','class_95','class_99']\n",
    "\n",
    "results_df = pd.DataFrame(index=results_df.index.unique(), columns=headers)\n"
   ]
  },
  {
   "cell_type": "code",
   "execution_count": 106,
   "metadata": {
    "scrolled": true
   },
   "outputs": [],
   "source": [
    "results_df = results_df.fillna(0)"
   ]
  },
  {
   "cell_type": "code",
   "execution_count": 109,
   "metadata": {},
   "outputs": [],
   "source": [
    "for item in flattened_results:\n",
    "    results_df.loc[item[0]]['class_' + str(int(item[1]))] = 1"
   ]
  },
  {
   "cell_type": "code",
   "execution_count": 110,
   "metadata": {},
   "outputs": [
    {
     "data": {
      "text/plain": [
       "(3492890, 15)"
      ]
     },
     "execution_count": 110,
     "metadata": {},
     "output_type": "execute_result"
    }
   ],
   "source": [
    "results_df.shape"
   ]
  },
  {
   "cell_type": "code",
   "execution_count": 111,
   "metadata": {},
   "outputs": [],
   "source": [
    "results_df.to_csv('submisson.csv')"
   ]
  }
 ],
 "metadata": {
  "kernelspec": {
   "display_name": "Python 3",
   "language": "python",
   "name": "python3"
  },
  "language_info": {
   "codemirror_mode": {
    "name": "ipython",
    "version": 3
   },
   "file_extension": ".py",
   "mimetype": "text/x-python",
   "name": "python",
   "nbconvert_exporter": "python",
   "pygments_lexer": "ipython3",
   "version": "3.6.5"
  }
 },
 "nbformat": 4,
 "nbformat_minor": 2
}
